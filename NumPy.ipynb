{
 "cells": [
  {
   "cell_type": "markdown",
   "id": "c2e53e5f-0d68-4371-ae80-cba736b1f72d",
   "metadata": {},
   "source": [
    "# NumPy\n",
    " * NumPy provides efficient storage.\n",
    " * NumPy provides better ways of handling data for processing.\n",
    " * NumPy is fast and easy to learn.\n",
    " * NumPy uses relatively less memory to store data.\n"
   ]
  },
  {
   "cell_type": "markdown",
   "id": "62d93261-7915-4564-98a0-4c1cb269a287",
   "metadata": {},
   "source": [
    "NumPy(Numerical Python) is a fundamental library for Python numerical computing. It provides efficient multi-dimensional array objects and various mathematical functions for handling large datasets making it a critical tool for professionals in fields that require heavy computation."
   ]
  },
  {
   "cell_type": "code",
   "execution_count": 1,
   "id": "f1ff2058-9918-45ee-a433-bfe73a10ef20",
   "metadata": {},
   "outputs": [],
   "source": [
    "import numpy as np"
   ]
  },
  {
   "cell_type": "code",
   "execution_count": 2,
   "id": "f97b6a33-d263-4971-8e19-a19e149b6af1",
   "metadata": {},
   "outputs": [],
   "source": [
    "myarr = np.array([3,45,69,25])"
   ]
  },
  {
   "cell_type": "code",
   "execution_count": 3,
   "id": "915aec2e-e262-4d4f-bd1f-fbc0bdac72db",
   "metadata": {},
   "outputs": [
    {
     "data": {
      "text/plain": [
       "array([ 3, 45, 69, 25])"
      ]
     },
     "execution_count": 3,
     "metadata": {},
     "output_type": "execute_result"
    }
   ],
   "source": [
    "myarr"
   ]
  },
  {
   "cell_type": "code",
   "execution_count": 4,
   "id": "a8e3b9ff-c098-44d3-826a-398df8437a26",
   "metadata": {},
   "outputs": [
    {
     "data": {
      "text/plain": [
       "np.int64(3)"
      ]
     },
     "execution_count": 4,
     "metadata": {},
     "output_type": "execute_result"
    }
   ],
   "source": [
    "myarr[0]"
   ]
  },
  {
   "cell_type": "code",
   "execution_count": 5,
   "id": "7f54ab17-bd6a-4855-b3af-0da8b39a5148",
   "metadata": {},
   "outputs": [],
   "source": [
    "my_arr = np.array([[3,45,69,25]])"
   ]
  },
  {
   "cell_type": "code",
   "execution_count": 6,
   "id": "e1e17c1a-acd0-46c7-89a5-9f26f66b0a64",
   "metadata": {},
   "outputs": [
    {
     "data": {
      "text/plain": [
       "np.int64(45)"
      ]
     },
     "execution_count": 6,
     "metadata": {},
     "output_type": "execute_result"
    }
   ],
   "source": [
    "my_arr[0,1]"
   ]
  },
  {
   "cell_type": "code",
   "execution_count": 7,
   "id": "f5f829b3-f4ff-42c3-8735-8d59e489b11a",
   "metadata": {},
   "outputs": [],
   "source": [
    "my_arr = np.array([[3,45,69,25]], np.int64)"
   ]
  },
  {
   "cell_type": "code",
   "execution_count": 8,
   "id": "83b01abb-9c73-4f7a-8ab4-79ccac7a7df4",
   "metadata": {},
   "outputs": [
    {
     "data": {
      "text/plain": [
       "np.int64(45)"
      ]
     },
     "execution_count": 8,
     "metadata": {},
     "output_type": "execute_result"
    }
   ],
   "source": [
    "my_arr[0,1]"
   ]
  },
  {
   "cell_type": "code",
   "execution_count": 9,
   "id": "7cdaa1d6-073a-4a2b-8ad0-c9b1acbfc40b",
   "metadata": {},
   "outputs": [
    {
     "data": {
      "text/plain": [
       "(1, 4)"
      ]
     },
     "execution_count": 9,
     "metadata": {},
     "output_type": "execute_result"
    }
   ],
   "source": [
    "my_arr.shape"
   ]
  },
  {
   "cell_type": "code",
   "execution_count": 10,
   "id": "af45a89c-367a-4937-b585-19c09c2e4a56",
   "metadata": {},
   "outputs": [
    {
     "data": {
      "text/plain": [
       "dtype('int64')"
      ]
     },
     "execution_count": 10,
     "metadata": {},
     "output_type": "execute_result"
    }
   ],
   "source": [
    "my_arr.dtype"
   ]
  },
  {
   "cell_type": "code",
   "execution_count": 11,
   "id": "e804faf0-b3dc-4f4d-a2d5-b9d44133b498",
   "metadata": {},
   "outputs": [],
   "source": [
    "my_arr[0,1]=7"
   ]
  },
  {
   "cell_type": "code",
   "execution_count": 12,
   "id": "a46e3521-e221-4b59-83f1-8f41fc59dd53",
   "metadata": {},
   "outputs": [
    {
     "data": {
      "text/plain": [
       "array([[ 3,  7, 69, 25]])"
      ]
     },
     "execution_count": 12,
     "metadata": {},
     "output_type": "execute_result"
    }
   ],
   "source": [
    "my_arr"
   ]
  },
  {
   "cell_type": "markdown",
   "id": "7ca6876c-ac8c-4615-b116-a14e57e982b1",
   "metadata": {},
   "source": [
    "> Array Creation"
   ]
  },
  {
   "cell_type": "code",
   "execution_count": 13,
   "id": "36b2ab46-5264-4424-9c05-3bd2b257f3df",
   "metadata": {},
   "outputs": [],
   "source": [
    "listarray = np.array([[1,2,3],[69,36,55],[7,18,45]])"
   ]
  },
  {
   "cell_type": "code",
   "execution_count": 14,
   "id": "22d2f5f0-8f15-421f-8217-92fdec42e692",
   "metadata": {},
   "outputs": [
    {
     "data": {
      "text/plain": [
       "array([[ 1,  2,  3],\n",
       "       [69, 36, 55],\n",
       "       [ 7, 18, 45]])"
      ]
     },
     "execution_count": 14,
     "metadata": {},
     "output_type": "execute_result"
    }
   ],
   "source": [
    "listarray"
   ]
  },
  {
   "cell_type": "code",
   "execution_count": 15,
   "id": "20cdc0f6-babc-4ab5-a0b5-26a7fd71596d",
   "metadata": {},
   "outputs": [
    {
     "data": {
      "text/plain": [
       "dtype('int64')"
      ]
     },
     "execution_count": 15,
     "metadata": {},
     "output_type": "execute_result"
    }
   ],
   "source": [
    "listarray.dtype"
   ]
  },
  {
   "cell_type": "code",
   "execution_count": 16,
   "id": "034cad14-fbcb-4c53-beac-850800116d09",
   "metadata": {},
   "outputs": [
    {
     "data": {
      "text/plain": [
       "(3, 3)"
      ]
     },
     "execution_count": 16,
     "metadata": {},
     "output_type": "execute_result"
    }
   ],
   "source": [
    "listarray.shape"
   ]
  },
  {
   "cell_type": "code",
   "execution_count": 17,
   "id": "72f7e229-07ad-4900-93a3-45b21cb41919",
   "metadata": {},
   "outputs": [
    {
     "data": {
      "text/plain": [
       "9"
      ]
     },
     "execution_count": 17,
     "metadata": {},
     "output_type": "execute_result"
    }
   ],
   "source": [
    "listarray.size"
   ]
  },
  {
   "cell_type": "code",
   "execution_count": 18,
   "id": "c15b1a8b-9e9e-45c2-a2ac-14adc556e5dd",
   "metadata": {},
   "outputs": [
    {
     "data": {
      "text/plain": [
       "array({25, 69}, dtype=object)"
      ]
     },
     "execution_count": 18,
     "metadata": {},
     "output_type": "execute_result"
    }
   ],
   "source": [
    "np.array({25,69,25})"
   ]
  },
  {
   "cell_type": "code",
   "execution_count": 19,
   "id": "9c7c2df3-306c-4f0b-a636-5f3180f2c2a3",
   "metadata": {},
   "outputs": [],
   "source": [
    "zero = np.zeros((3,6))"
   ]
  },
  {
   "cell_type": "code",
   "execution_count": 20,
   "id": "046733f3-b9aa-4bf1-8e89-70703e096cf6",
   "metadata": {},
   "outputs": [
    {
     "data": {
      "text/plain": [
       "array([[0., 0., 0., 0., 0., 0.],\n",
       "       [0., 0., 0., 0., 0., 0.],\n",
       "       [0., 0., 0., 0., 0., 0.]])"
      ]
     },
     "execution_count": 20,
     "metadata": {},
     "output_type": "execute_result"
    }
   ],
   "source": [
    "zero"
   ]
  },
  {
   "cell_type": "code",
   "execution_count": 21,
   "id": "528e5d50-7d21-46f9-ac0c-b8c07bb797b3",
   "metadata": {},
   "outputs": [
    {
     "data": {
      "text/plain": [
       "dtype('float64')"
      ]
     },
     "execution_count": 21,
     "metadata": {},
     "output_type": "execute_result"
    }
   ],
   "source": [
    "zero.dtype"
   ]
  },
  {
   "cell_type": "code",
   "execution_count": 22,
   "id": "6b52d247-17db-4276-8bbb-10f9a0afe4a6",
   "metadata": {},
   "outputs": [
    {
     "data": {
      "text/plain": [
       "(3, 6)"
      ]
     },
     "execution_count": 22,
     "metadata": {},
     "output_type": "execute_result"
    }
   ],
   "source": [
    "zero.shape"
   ]
  },
  {
   "cell_type": "code",
   "execution_count": 23,
   "id": "c9dc8814-12ee-4e8e-b404-11da7a3bfe0f",
   "metadata": {},
   "outputs": [],
   "source": [
    "rng = np.arange(21)"
   ]
  },
  {
   "cell_type": "code",
   "execution_count": 24,
   "id": "8629241c-12f5-4b58-9dd7-ce0cfc9002ef",
   "metadata": {},
   "outputs": [
    {
     "data": {
      "text/plain": [
       "array([ 0,  1,  2,  3,  4,  5,  6,  7,  8,  9, 10, 11, 12, 13, 14, 15, 16,\n",
       "       17, 18, 19, 20])"
      ]
     },
     "execution_count": 24,
     "metadata": {},
     "output_type": "execute_result"
    }
   ],
   "source": [
    "rng"
   ]
  },
  {
   "cell_type": "markdown",
   "id": "73b9153a-31c4-4b55-b5b6-97dd33d2ed2b",
   "metadata": {},
   "source": [
    "**linspace() function in NumPy returns an array of evenly spaced numbers over a specified range**"
   ]
  },
  {
   "cell_type": "markdown",
   "id": "a7dfd98a-cc0f-4d7e-902a-277dc0568c56",
   "metadata": {},
   "source": [
    "**np.linspace(start,end,no. of elements)**"
   ]
  },
  {
   "cell_type": "code",
   "execution_count": 25,
   "id": "bf018ca8-6ac4-4b2a-b78b-f3cd7abdb5eb",
   "metadata": {},
   "outputs": [],
   "source": [
    "lspace = np.linspace(1,10,5)"
   ]
  },
  {
   "cell_type": "code",
   "execution_count": 26,
   "id": "9cc57d94-c575-4384-a6ed-f88f0103bdab",
   "metadata": {},
   "outputs": [
    {
     "data": {
      "text/plain": [
       "array([ 1.  ,  3.25,  5.5 ,  7.75, 10.  ])"
      ]
     },
     "execution_count": 26,
     "metadata": {},
     "output_type": "execute_result"
    }
   ],
   "source": [
    "lspace"
   ]
  },
  {
   "cell_type": "code",
   "execution_count": 27,
   "id": "93dd2e64-c94c-4901-968e-6572c0845655",
   "metadata": {},
   "outputs": [],
   "source": [
    "mt = np.empty((2,3))"
   ]
  },
  {
   "cell_type": "code",
   "execution_count": 28,
   "id": "31a6fee3-4fc1-4a43-9f8c-20d271a976c2",
   "metadata": {},
   "outputs": [
    {
     "data": {
      "text/plain": [
       "array([[-7.98962822e-312,  1.27757174e-061,  7.98977373e-312],\n",
       "       [ 7.98977373e-312,  5.92878775e-323,  7.90505033e-323]])"
      ]
     },
     "execution_count": 28,
     "metadata": {},
     "output_type": "execute_result"
    }
   ],
   "source": [
    "mt"
   ]
  },
  {
   "cell_type": "code",
   "execution_count": 29,
   "id": "255d9c54-d8e5-4171-9736-b1d8aa1fc5ea",
   "metadata": {},
   "outputs": [],
   "source": [
    "mt_like = np.empty_like(lspace)"
   ]
  },
  {
   "cell_type": "code",
   "execution_count": 30,
   "id": "cad26c51-649d-437a-b0d6-fcfc80051cf4",
   "metadata": {},
   "outputs": [
    {
     "data": {
      "text/plain": [
       "array([ 1.  ,  3.25,  5.5 ,  7.75, 10.  ])"
      ]
     },
     "execution_count": 30,
     "metadata": {},
     "output_type": "execute_result"
    }
   ],
   "source": [
    "mt_like"
   ]
  },
  {
   "cell_type": "markdown",
   "id": "b368a75e-9afa-4b05-b3fd-0a549c8a4862",
   "metadata": {},
   "source": [
    "***variable_name = np.identity(n) gives the nxn identity matrix***"
   ]
  },
  {
   "cell_type": "code",
   "execution_count": 31,
   "id": "e05e3613-1be5-40b9-a404-bba2dd65e1de",
   "metadata": {},
   "outputs": [],
   "source": [
    "ide = np.identity(5)"
   ]
  },
  {
   "cell_type": "code",
   "execution_count": 32,
   "id": "9c2520fb-da76-424a-9529-2a8454c6752a",
   "metadata": {},
   "outputs": [
    {
     "data": {
      "text/plain": [
       "array([[1., 0., 0., 0., 0.],\n",
       "       [0., 1., 0., 0., 0.],\n",
       "       [0., 0., 1., 0., 0.],\n",
       "       [0., 0., 0., 1., 0.],\n",
       "       [0., 0., 0., 0., 1.]])"
      ]
     },
     "execution_count": 32,
     "metadata": {},
     "output_type": "execute_result"
    }
   ],
   "source": [
    "ide"
   ]
  },
  {
   "cell_type": "code",
   "execution_count": 33,
   "id": "9aaacc70-3d06-4909-b463-38299989ead7",
   "metadata": {},
   "outputs": [
    {
     "data": {
      "text/plain": [
       "(5, 5)"
      ]
     },
     "execution_count": 33,
     "metadata": {},
     "output_type": "execute_result"
    }
   ],
   "source": [
    "ide.shape"
   ]
  },
  {
   "cell_type": "code",
   "execution_count": 34,
   "id": "c3a14ca7-5f7c-4c26-928f-8c18b9ca3ace",
   "metadata": {},
   "outputs": [],
   "source": [
    "a=np.arange(20)"
   ]
  },
  {
   "cell_type": "code",
   "execution_count": 35,
   "id": "90d892d2-3e55-4fbd-9f13-9772671f9ac3",
   "metadata": {},
   "outputs": [
    {
     "data": {
      "text/plain": [
       "array([ 0,  1,  2,  3,  4,  5,  6,  7,  8,  9, 10, 11, 12, 13, 14, 15, 16,\n",
       "       17, 18, 19])"
      ]
     },
     "execution_count": 35,
     "metadata": {},
     "output_type": "execute_result"
    }
   ],
   "source": [
    "a"
   ]
  },
  {
   "cell_type": "markdown",
   "id": "db92e138-c2d5-40b7-aa67-83610ca77725",
   "metadata": {},
   "source": [
    "**From a given array we can convert into a matrix by reshape function**"
   ]
  },
  {
   "cell_type": "markdown",
   "id": "555b9dad-6392-4a39-88a6-c55ba891d316",
   "metadata": {},
   "source": [
    "**If we have mn no. of elements then we can form a m x n or n x m matrix**"
   ]
  },
  {
   "cell_type": "code",
   "execution_count": 36,
   "id": "ab3403e9-2a2d-4faf-b0b7-02b6fca253ef",
   "metadata": {},
   "outputs": [],
   "source": [
    "a = a.reshape(5,4)"
   ]
  },
  {
   "cell_type": "code",
   "execution_count": 37,
   "id": "a8884285-5f90-410b-9ef9-3a5b7a90db6d",
   "metadata": {},
   "outputs": [
    {
     "data": {
      "text/plain": [
       "array([[ 0,  1,  2,  3],\n",
       "       [ 4,  5,  6,  7],\n",
       "       [ 8,  9, 10, 11],\n",
       "       [12, 13, 14, 15],\n",
       "       [16, 17, 18, 19]])"
      ]
     },
     "execution_count": 37,
     "metadata": {},
     "output_type": "execute_result"
    }
   ],
   "source": [
    "a"
   ]
  },
  {
   "cell_type": "markdown",
   "id": "8c3c750b-5093-4ce3-8c4a-d3678b480c48",
   "metadata": {},
   "source": [
    "**From a matrix to a 1D array we use ravel function**"
   ]
  },
  {
   "cell_type": "markdown",
   "id": "ddf28d03-f5d6-4575-84fe-7caca665b44c",
   "metadata": {},
   "source": [
    "**Variable_name = present_matrix.ravel()** "
   ]
  },
  {
   "cell_type": "code",
   "execution_count": 38,
   "id": "c8a1a43f-3e8d-4ec9-8f35-2c43afb7bd2e",
   "metadata": {},
   "outputs": [],
   "source": [
    "arr = a.ravel()"
   ]
  },
  {
   "cell_type": "code",
   "execution_count": 39,
   "id": "33cc2fb2-5043-4946-80bf-2c583428e9d6",
   "metadata": {},
   "outputs": [
    {
     "data": {
      "text/plain": [
       "array([ 0,  1,  2,  3,  4,  5,  6,  7,  8,  9, 10, 11, 12, 13, 14, 15, 16,\n",
       "       17, 18, 19])"
      ]
     },
     "execution_count": 39,
     "metadata": {},
     "output_type": "execute_result"
    }
   ],
   "source": [
    "arr"
   ]
  },
  {
   "cell_type": "code",
   "execution_count": 40,
   "id": "4733bc8f-a713-4890-9515-cded99f4e59d",
   "metadata": {},
   "outputs": [
    {
     "data": {
      "text/plain": [
       "array([[ 0,  1,  2,  3],\n",
       "       [ 4,  5,  6,  7],\n",
       "       [ 8,  9, 10, 11],\n",
       "       [12, 13, 14, 15],\n",
       "       [16, 17, 18, 19]])"
      ]
     },
     "execution_count": 40,
     "metadata": {},
     "output_type": "execute_result"
    }
   ],
   "source": [
    "a"
   ]
  },
  {
   "cell_type": "markdown",
   "id": "8b80dfb1-f14a-4732-97dd-0e47fba4dd6d",
   "metadata": {},
   "source": [
    "**1D array -- Axis0**\n",
    "\n",
    "**2D array -- Axis0 for row and axis1 for column**"
   ]
  },
  {
   "cell_type": "code",
   "execution_count": 41,
   "id": "19eea40b-1be0-4448-a734-0d54f1584ada",
   "metadata": {},
   "outputs": [],
   "source": [
    "x = [[1,2,3],[4,5,6],[7,8,9]]"
   ]
  },
  {
   "cell_type": "code",
   "execution_count": 42,
   "id": "db3799e3-80aa-4f6b-88ce-47d54cb1f6c3",
   "metadata": {},
   "outputs": [],
   "source": [
    "ar = np.array(x)"
   ]
  },
  {
   "cell_type": "code",
   "execution_count": 43,
   "id": "e8178257-c7c5-4512-89a0-5102b54c8f91",
   "metadata": {},
   "outputs": [
    {
     "data": {
      "text/plain": [
       "array([[1, 2, 3],\n",
       "       [4, 5, 6],\n",
       "       [7, 8, 9]])"
      ]
     },
     "execution_count": 43,
     "metadata": {},
     "output_type": "execute_result"
    }
   ],
   "source": [
    "ar"
   ]
  },
  {
   "cell_type": "code",
   "execution_count": 44,
   "id": "70ba42d0-878d-48f3-8731-c09e7ec71ea7",
   "metadata": {},
   "outputs": [
    {
     "data": {
      "text/plain": [
       "array([12, 15, 18])"
      ]
     },
     "execution_count": 44,
     "metadata": {},
     "output_type": "execute_result"
    }
   ],
   "source": [
    "ar.sum(axis=0)"
   ]
  },
  {
   "cell_type": "markdown",
   "id": "91e5f376-a6b1-4135-80ea-38c9b1e24c19",
   "metadata": {},
   "source": [
    "**To find the sum of each row elements as per column we use array_name.sum(axis=0)**"
   ]
  },
  {
   "cell_type": "code",
   "execution_count": 45,
   "id": "98b1b578-aa19-46f3-b83d-22273bc20002",
   "metadata": {},
   "outputs": [
    {
     "data": {
      "text/plain": [
       "array([ 6, 15, 24])"
      ]
     },
     "execution_count": 45,
     "metadata": {},
     "output_type": "execute_result"
    }
   ],
   "source": [
    "ar.sum(axis=1)"
   ]
  },
  {
   "cell_type": "markdown",
   "id": "31a683a4-2ad1-4485-8992-c75f6a306175",
   "metadata": {},
   "source": [
    "**To find the sum of each column elements as per row we use array_name.sum(axis=1)**"
   ]
  },
  {
   "cell_type": "markdown",
   "id": "47bd968f-aa52-4a52-9cbd-ab56e3424553",
   "metadata": {},
   "source": [
    "**To transpose an 2D array we have to use array_name.T**"
   ]
  },
  {
   "cell_type": "code",
   "execution_count": 46,
   "id": "1478b5c0-6f0e-479f-8249-9db664b79f73",
   "metadata": {},
   "outputs": [
    {
     "data": {
      "text/plain": [
       "array([[1, 4, 7],\n",
       "       [2, 5, 8],\n",
       "       [3, 6, 9]])"
      ]
     },
     "execution_count": 46,
     "metadata": {},
     "output_type": "execute_result"
    }
   ],
   "source": [
    "ar.T"
   ]
  },
  {
   "cell_type": "code",
   "execution_count": 47,
   "id": "2981d236-20f9-4839-9e31-d027b71b1c1b",
   "metadata": {},
   "outputs": [
    {
     "data": {
      "text/plain": [
       "<numpy.flatiter at 0x17884461af0>"
      ]
     },
     "execution_count": 47,
     "metadata": {},
     "output_type": "execute_result"
    }
   ],
   "source": [
    "ar.flat"
   ]
  },
  {
   "cell_type": "code",
   "execution_count": 48,
   "id": "38c5d6bb-76c5-41de-b275-4aefe9785be5",
   "metadata": {},
   "outputs": [
    {
     "name": "stdout",
     "output_type": "stream",
     "text": [
      "[1 2 3]\n",
      "[4 5 6]\n",
      "[7 8 9]\n"
     ]
    }
   ],
   "source": [
    "for item in ar:\n",
    "    print(item)"
   ]
  },
  {
   "cell_type": "code",
   "execution_count": 49,
   "id": "1a4f4cd1-2970-46e7-9182-17e457421dd6",
   "metadata": {},
   "outputs": [
    {
     "name": "stdout",
     "output_type": "stream",
     "text": [
      "1\n",
      "2\n",
      "3\n",
      "4\n",
      "5\n",
      "6\n",
      "7\n",
      "8\n",
      "9\n"
     ]
    }
   ],
   "source": [
    "for item in ar.flat:\n",
    "    print(item)"
   ]
  },
  {
   "cell_type": "markdown",
   "id": "d8b3817b-f0e6-49e3-a854-7ce6c353ef85",
   "metadata": {},
   "source": [
    "**To show dimension use array_name.ndim**"
   ]
  },
  {
   "cell_type": "code",
   "execution_count": 50,
   "id": "a0c331ce-3593-442d-95ba-4984fe982eda",
   "metadata": {},
   "outputs": [
    {
     "data": {
      "text/plain": [
       "2"
      ]
     },
     "execution_count": 50,
     "metadata": {},
     "output_type": "execute_result"
    }
   ],
   "source": [
    "ar.ndim"
   ]
  },
  {
   "cell_type": "code",
   "execution_count": 51,
   "id": "3e53631e-9b54-45e2-a6d1-bf8af260b4dd",
   "metadata": {},
   "outputs": [
    {
     "data": {
      "text/plain": [
       "1"
      ]
     },
     "execution_count": 51,
     "metadata": {},
     "output_type": "execute_result"
    }
   ],
   "source": [
    "arr.ndim"
   ]
  },
  {
   "cell_type": "markdown",
   "id": "8d825499-0c91-4dd2-be5b-e5a9b6a70418",
   "metadata": {},
   "source": [
    "**To find no of elements in array we use array_name.size**"
   ]
  },
  {
   "cell_type": "code",
   "execution_count": 52,
   "id": "724585e3-b422-4c4e-86fc-ec0af126dbed",
   "metadata": {},
   "outputs": [
    {
     "data": {
      "text/plain": [
       "9"
      ]
     },
     "execution_count": 52,
     "metadata": {},
     "output_type": "execute_result"
    }
   ],
   "source": [
    "ar.size"
   ]
  },
  {
   "cell_type": "markdown",
   "id": "787b37d8-1264-409b-9d2f-aca3c1a83840",
   "metadata": {},
   "source": [
    "**Total bytes consumed by an array we use array_name.nbytes**"
   ]
  },
  {
   "cell_type": "code",
   "execution_count": 53,
   "id": "2b037575-e969-40fa-a6b1-7301015b67f6",
   "metadata": {},
   "outputs": [
    {
     "data": {
      "text/plain": [
       "72"
      ]
     },
     "execution_count": 53,
     "metadata": {},
     "output_type": "execute_result"
    }
   ],
   "source": [
    "ar.nbytes"
   ]
  },
  {
   "cell_type": "code",
   "execution_count": 54,
   "id": "8172a242-6a02-4125-83ef-a4cdea49accf",
   "metadata": {},
   "outputs": [
    {
     "data": {
      "text/plain": [
       "160"
      ]
     },
     "execution_count": 54,
     "metadata": {},
     "output_type": "execute_result"
    }
   ],
   "source": [
    "a.nbytes"
   ]
  },
  {
   "cell_type": "code",
   "execution_count": 55,
   "id": "1a4e14d3-0809-4931-bb6b-f1b22b5506a3",
   "metadata": {},
   "outputs": [],
   "source": [
    "one = np.array([18,77,7,45])"
   ]
  },
  {
   "cell_type": "markdown",
   "id": "8abe7cba-e3c3-4156-b82b-def2e521d91e",
   "metadata": {},
   "source": [
    "**To find max and min element in an 1D array we have to use array_name.argmax or array_name.argmin for the location of the min and max element and to find the value we have to use array_name.min or array_name.max**"
   ]
  },
  {
   "cell_type": "code",
   "execution_count": 56,
   "id": "510e419e-d7ce-4c72-9106-8822eab598b8",
   "metadata": {},
   "outputs": [
    {
     "data": {
      "text/plain": [
       "np.int64(2)"
      ]
     },
     "execution_count": 56,
     "metadata": {},
     "output_type": "execute_result"
    }
   ],
   "source": [
    "one.argmin()"
   ]
  },
  {
   "cell_type": "code",
   "execution_count": 57,
   "id": "68633d23-06ce-4641-8eea-564a6fa4d674",
   "metadata": {},
   "outputs": [
    {
     "data": {
      "text/plain": [
       "np.int64(7)"
      ]
     },
     "execution_count": 57,
     "metadata": {},
     "output_type": "execute_result"
    }
   ],
   "source": [
    "one.min()"
   ]
  },
  {
   "cell_type": "code",
   "execution_count": 58,
   "id": "646b3939-eb8c-4d0d-971a-b27b1d0bf415",
   "metadata": {},
   "outputs": [
    {
     "data": {
      "text/plain": [
       "np.int64(1)"
      ]
     },
     "execution_count": 58,
     "metadata": {},
     "output_type": "execute_result"
    }
   ],
   "source": [
    "one.argmax()"
   ]
  },
  {
   "cell_type": "code",
   "execution_count": 59,
   "id": "f7a49094-4370-478f-aade-e82a807e46c7",
   "metadata": {},
   "outputs": [
    {
     "data": {
      "text/plain": [
       "np.int64(77)"
      ]
     },
     "execution_count": 59,
     "metadata": {},
     "output_type": "execute_result"
    }
   ],
   "source": [
    "one.max()"
   ]
  },
  {
   "cell_type": "markdown",
   "id": "c4786dc0-8d31-4845-a279-65f74993849c",
   "metadata": {},
   "source": [
    "**To sort the array index by value we have to use array_name.argsort**"
   ]
  },
  {
   "cell_type": "code",
   "execution_count": 60,
   "id": "2d6daa89-eeb3-4ce0-86cd-8dd17a7226fb",
   "metadata": {},
   "outputs": [
    {
     "data": {
      "text/plain": [
       "array([2, 0, 3, 1])"
      ]
     },
     "execution_count": 60,
     "metadata": {},
     "output_type": "execute_result"
    }
   ],
   "source": [
    "one.argsort()"
   ]
  },
  {
   "cell_type": "code",
   "execution_count": 61,
   "id": "6aaf7dd4-b82d-42e3-8156-cd2cf32752c1",
   "metadata": {},
   "outputs": [
    {
     "data": {
      "text/plain": [
       "array([[1, 2, 3],\n",
       "       [4, 5, 6],\n",
       "       [7, 8, 9]])"
      ]
     },
     "execution_count": 61,
     "metadata": {},
     "output_type": "execute_result"
    }
   ],
   "source": [
    "ar"
   ]
  },
  {
   "cell_type": "code",
   "execution_count": 62,
   "id": "b31062a4-c4ae-4c9d-b2df-51f397d00087",
   "metadata": {},
   "outputs": [
    {
     "data": {
      "text/plain": [
       "np.int64(0)"
      ]
     },
     "execution_count": 62,
     "metadata": {},
     "output_type": "execute_result"
    }
   ],
   "source": [
    "ar.argmin()"
   ]
  },
  {
   "cell_type": "code",
   "execution_count": 63,
   "id": "de736ba3-2c12-486a-924f-1d485d0506e8",
   "metadata": {},
   "outputs": [
    {
     "data": {
      "text/plain": [
       "np.int64(8)"
      ]
     },
     "execution_count": 63,
     "metadata": {},
     "output_type": "execute_result"
    }
   ],
   "source": [
    "ar.argmax()"
   ]
  },
  {
   "cell_type": "code",
   "execution_count": 64,
   "id": "bf5352d7-fdfc-4ca2-9db4-0b38f5e66b21",
   "metadata": {},
   "outputs": [
    {
     "data": {
      "text/plain": [
       "array([2, 2, 2])"
      ]
     },
     "execution_count": 64,
     "metadata": {},
     "output_type": "execute_result"
    }
   ],
   "source": [
    "ar.argmax(axis=0)"
   ]
  },
  {
   "cell_type": "code",
   "execution_count": 65,
   "id": "3c5fdff6-e6ee-4cea-bbc6-12fd35695f10",
   "metadata": {},
   "outputs": [],
   "source": [
    "t = [[10,2,39],[42,55,6],[7,81,93]]"
   ]
  },
  {
   "cell_type": "code",
   "execution_count": 66,
   "id": "be171b02-5963-4a0e-a49a-024adfe67eaf",
   "metadata": {},
   "outputs": [
    {
     "data": {
      "text/plain": [
       "[[10, 2, 39], [42, 55, 6], [7, 81, 93]]"
      ]
     },
     "execution_count": 66,
     "metadata": {},
     "output_type": "execute_result"
    }
   ],
   "source": [
    "t"
   ]
  },
  {
   "cell_type": "code",
   "execution_count": 67,
   "id": "3a5b0e6d-e89e-4d9e-8cb6-4ed9355f08a2",
   "metadata": {},
   "outputs": [],
   "source": [
    "t = np.array(t)"
   ]
  },
  {
   "cell_type": "code",
   "execution_count": 68,
   "id": "d6d00d5b-c203-4bb4-92e8-ee4719c0f212",
   "metadata": {},
   "outputs": [
    {
     "data": {
      "text/plain": [
       "array([[10,  2, 39],\n",
       "       [42, 55,  6],\n",
       "       [ 7, 81, 93]])"
      ]
     },
     "execution_count": 68,
     "metadata": {},
     "output_type": "execute_result"
    }
   ],
   "source": [
    "t"
   ]
  },
  {
   "cell_type": "code",
   "execution_count": 69,
   "id": "9b3b2b1a-c381-403e-b415-5391bcb3994a",
   "metadata": {},
   "outputs": [
    {
     "data": {
      "text/plain": [
       "np.int64(8)"
      ]
     },
     "execution_count": 69,
     "metadata": {},
     "output_type": "execute_result"
    }
   ],
   "source": [
    "t.argmax()            # t.argmax() tells you where the largest value is located. Note: indexing starts from 0"
   ]
  },
  {
   "cell_type": "code",
   "execution_count": 70,
   "id": "ea63ff07-5106-49de-a1c3-2f82574656a7",
   "metadata": {},
   "outputs": [
    {
     "data": {
      "text/plain": [
       "np.int64(1)"
      ]
     },
     "execution_count": 70,
     "metadata": {},
     "output_type": "execute_result"
    }
   ],
   "source": [
    "t.argmin()            # t.argmin() tells you where the smallest value is located. Note: indexing starts from 0"
   ]
  },
  {
   "cell_type": "code",
   "execution_count": 71,
   "id": "73d6e595-cabd-4d71-9578-62486c0c679e",
   "metadata": {},
   "outputs": [
    {
     "data": {
      "text/plain": [
       "array([1, 2, 2])"
      ]
     },
     "execution_count": 71,
     "metadata": {},
     "output_type": "execute_result"
    }
   ],
   "source": [
    "t.argmax(axis=0)     # In each column, at which row is the maximum value. axis=0 means we’re working down each column (column-wise comparison)."
   ]
  },
  {
   "cell_type": "code",
   "execution_count": 72,
   "id": "1b25bbb5-bf89-4b8b-bf7c-d144e8552114",
   "metadata": {},
   "outputs": [
    {
     "data": {
      "text/plain": [
       "array([2, 1, 2])"
      ]
     },
     "execution_count": 72,
     "metadata": {},
     "output_type": "execute_result"
    }
   ],
   "source": [
    "t.argmax(axis=1)    #In each row, at which column is the maximum value. axis=1 means we’re working across each row (row-wise comparison)."
   ]
  },
  {
   "cell_type": "code",
   "execution_count": 73,
   "id": "bc36edc3-2bc8-4d0b-8218-2bcac23ed1cc",
   "metadata": {},
   "outputs": [
    {
     "data": {
      "text/plain": [
       "array([[2, 0, 1],\n",
       "       [0, 1, 0],\n",
       "       [1, 2, 2]])"
      ]
     },
     "execution_count": 73,
     "metadata": {},
     "output_type": "execute_result"
    }
   ],
   "source": [
    "t.argsort(axis=0)   # t.argsort(axis=0) returns the indices that would sort each column.If I sorted each column from top to bottom, what would be the row order."
   ]
  },
  {
   "cell_type": "code",
   "execution_count": 74,
   "id": "004b59d1-b482-4c84-afa4-ab1e141968af",
   "metadata": {},
   "outputs": [
    {
     "data": {
      "text/plain": [
       "array([[1, 0, 2],\n",
       "       [2, 0, 1],\n",
       "       [0, 1, 2]])"
      ]
     },
     "execution_count": 74,
     "metadata": {},
     "output_type": "execute_result"
    }
   ],
   "source": [
    "t.argsort(axis=1)    # t.argsort(axis=1) returns the indices that would sort each row.If I sorted each row from left to right, what would be the column order."
   ]
  },
  {
   "cell_type": "code",
   "execution_count": 75,
   "id": "983bd3ce-7616-4119-9c61-dcb78598ec34",
   "metadata": {},
   "outputs": [
    {
     "data": {
      "text/plain": [
       "array([10,  2, 39, 42, 55,  6,  7, 81, 93])"
      ]
     },
     "execution_count": 75,
     "metadata": {},
     "output_type": "execute_result"
    }
   ],
   "source": [
    "t.ravel()         # returns a 1D (flattened) view of the array t."
   ]
  },
  {
   "cell_type": "code",
   "execution_count": 76,
   "id": "4ff26287-71d0-4955-8b74-111d0ab62a19",
   "metadata": {},
   "outputs": [
    {
     "data": {
      "text/plain": [
       "array([[10,  2, 39],\n",
       "       [42, 55,  6],\n",
       "       [ 7, 81, 93]])"
      ]
     },
     "execution_count": 76,
     "metadata": {},
     "output_type": "execute_result"
    }
   ],
   "source": [
    "t"
   ]
  },
  {
   "cell_type": "code",
   "execution_count": 77,
   "id": "5ab81630-fc3a-4e35-98a8-0795b705412d",
   "metadata": {},
   "outputs": [],
   "source": [
    "t_1 = np.array([[18,  1, 0],\n",
    "       [40, 45,  7],\n",
    "       [ 93, 9, 7]])"
   ]
  },
  {
   "cell_type": "code",
   "execution_count": 78,
   "id": "8ec3f4f6-2c8e-490e-9be6-e1fce3f0943a",
   "metadata": {},
   "outputs": [
    {
     "data": {
      "text/plain": [
       "array([[18,  1,  0],\n",
       "       [40, 45,  7],\n",
       "       [93,  9,  7]])"
      ]
     },
     "execution_count": 78,
     "metadata": {},
     "output_type": "execute_result"
    }
   ],
   "source": [
    "t_1"
   ]
  },
  {
   "cell_type": "markdown",
   "id": "0ff74142-f61c-4d8b-9e03-dff81ef0ee96",
   "metadata": {},
   "source": [
    "**Matrix Addition**"
   ]
  },
  {
   "cell_type": "code",
   "execution_count": 79,
   "id": "c3b31045-bbe9-4cc1-a69f-aacb7df1993c",
   "metadata": {},
   "outputs": [
    {
     "data": {
      "text/plain": [
       "array([[ 28,   3,  39],\n",
       "       [ 82, 100,  13],\n",
       "       [100,  90, 100]])"
      ]
     },
     "execution_count": 79,
     "metadata": {},
     "output_type": "execute_result"
    }
   ],
   "source": [
    "t+t_1"
   ]
  },
  {
   "cell_type": "code",
   "execution_count": 80,
   "id": "8815c8f5-cba9-42a1-9d55-8e056ed68c5f",
   "metadata": {},
   "outputs": [],
   "source": [
    "list = [1,2,3]"
   ]
  },
  {
   "cell_type": "code",
   "execution_count": 81,
   "id": "63a5c6ca-1a91-4321-b405-0f6c400c1b5b",
   "metadata": {},
   "outputs": [],
   "source": [
    "list_1 = [4,5,6]"
   ]
  },
  {
   "cell_type": "code",
   "execution_count": 82,
   "id": "e57e23bb-c7df-4609-9faa-4952b0ea1e4a",
   "metadata": {},
   "outputs": [
    {
     "data": {
      "text/plain": [
       "[1, 2, 3, 4, 5, 6]"
      ]
     },
     "execution_count": 82,
     "metadata": {},
     "output_type": "execute_result"
    }
   ],
   "source": [
    "list+list_1"
   ]
  },
  {
   "cell_type": "markdown",
   "id": "98290cef-0d39-4fea-904d-1c4a8d41bf5e",
   "metadata": {},
   "source": [
    "**Elementwise multiply**"
   ]
  },
  {
   "cell_type": "code",
   "execution_count": 83,
   "id": "fb68f6a7-e0ec-4310-9f86-b5c7bd452d04",
   "metadata": {},
   "outputs": [
    {
     "data": {
      "text/plain": [
       "array([[ 180,    2,    0],\n",
       "       [1680, 2475,   42],\n",
       "       [ 651,  729,  651]])"
      ]
     },
     "execution_count": 83,
     "metadata": {},
     "output_type": "execute_result"
    }
   ],
   "source": [
    "t*t_1"
   ]
  },
  {
   "cell_type": "code",
   "execution_count": 84,
   "id": "c30f781b-c19d-48e2-a946-7666d84e33c5",
   "metadata": {},
   "outputs": [],
   "source": [
    "saq = np.array([[16,  1, 0],\n",
    "       [40, 25,  49],\n",
    "       [ 81, 9, 7]])"
   ]
  },
  {
   "cell_type": "code",
   "execution_count": 85,
   "id": "4d03c038-1b45-4e12-9a9c-63a234a401cd",
   "metadata": {},
   "outputs": [
    {
     "data": {
      "text/plain": [
       "array([[16,  1,  0],\n",
       "       [40, 25, 49],\n",
       "       [81,  9,  7]])"
      ]
     },
     "execution_count": 85,
     "metadata": {},
     "output_type": "execute_result"
    }
   ],
   "source": [
    "saq"
   ]
  },
  {
   "cell_type": "markdown",
   "id": "a8271131-cfc2-4643-be77-338242b54de1",
   "metadata": {},
   "source": [
    "**Elementwise Square root**"
   ]
  },
  {
   "cell_type": "code",
   "execution_count": 86,
   "id": "cf53e9ac-a202-455d-a516-327e83966bac",
   "metadata": {},
   "outputs": [
    {
     "data": {
      "text/plain": [
       "array([[4.        , 1.        , 0.        ],\n",
       "       [6.32455532, 5.        , 7.        ],\n",
       "       [9.        , 3.        , 2.64575131]])"
      ]
     },
     "execution_count": 86,
     "metadata": {},
     "output_type": "execute_result"
    }
   ],
   "source": [
    "np.sqrt(saq)"
   ]
  },
  {
   "cell_type": "code",
   "execution_count": 87,
   "id": "1a8cc9ff-ad84-4065-9198-056a73ddd658",
   "metadata": {},
   "outputs": [],
   "source": [
    "n = np.array([[6,  1, 0],\n",
    "       [4, 5,  0],\n",
    "       [ 8, 10, 2]])"
   ]
  },
  {
   "cell_type": "code",
   "execution_count": 88,
   "id": "500082e3-857c-4442-8dd7-48a5311c7b43",
   "metadata": {},
   "outputs": [
    {
     "data": {
      "text/plain": [
       "array([[ 6,  1,  0],\n",
       "       [ 4,  5,  0],\n",
       "       [ 8, 10,  2]])"
      ]
     },
     "execution_count": 88,
     "metadata": {},
     "output_type": "execute_result"
    }
   ],
   "source": [
    "n"
   ]
  },
  {
   "cell_type": "markdown",
   "id": "042b673d-4e22-49c1-8bb4-94852533215d",
   "metadata": {},
   "source": [
    "**Sum of all the elements of the array**"
   ]
  },
  {
   "cell_type": "code",
   "execution_count": 89,
   "id": "d16bc511-d50d-49eb-b58a-79b9ead303be",
   "metadata": {},
   "outputs": [
    {
     "data": {
      "text/plain": [
       "np.int64(36)"
      ]
     },
     "execution_count": 89,
     "metadata": {},
     "output_type": "execute_result"
    }
   ],
   "source": [
    "n.sum()"
   ]
  },
  {
   "cell_type": "code",
   "execution_count": 90,
   "id": "82544c05-f66d-4777-9d54-e0ad9aabcfa1",
   "metadata": {},
   "outputs": [
    {
     "data": {
      "text/plain": [
       "np.int64(10)"
      ]
     },
     "execution_count": 90,
     "metadata": {},
     "output_type": "execute_result"
    }
   ],
   "source": [
    "n.max()"
   ]
  },
  {
   "cell_type": "code",
   "execution_count": 91,
   "id": "96c22010-08e5-46e1-b265-e2993584e673",
   "metadata": {},
   "outputs": [
    {
     "data": {
      "text/plain": [
       "(array([2, 2]), array([0, 1]))"
      ]
     },
     "execution_count": 91,
     "metadata": {},
     "output_type": "execute_result"
    }
   ],
   "source": [
    "np.where(n>7)"
   ]
  },
  {
   "cell_type": "markdown",
   "id": "32cd5511-b0a7-478e-8ce0-f753c023ad1e",
   "metadata": {},
   "source": [
    "**Count no of non-zero element**"
   ]
  },
  {
   "cell_type": "code",
   "execution_count": 92,
   "id": "503b64fa-0b21-43e6-aad9-6167b17b20cd",
   "metadata": {},
   "outputs": [
    {
     "data": {
      "text/plain": [
       "7"
      ]
     },
     "execution_count": 92,
     "metadata": {},
     "output_type": "execute_result"
    }
   ],
   "source": [
    "np.count_nonzero(n)"
   ]
  },
  {
   "cell_type": "markdown",
   "id": "28f35904-5865-461f-ad1c-4055bb5dcc71",
   "metadata": {},
   "source": [
    "**Where non-zero elements are presents. For every non-zero element each axis indices are in different tuples**"
   ]
  },
  {
   "cell_type": "code",
   "execution_count": 93,
   "id": "bcd54b0d-3ee8-48e6-b09a-03fce1ff9095",
   "metadata": {},
   "outputs": [
    {
     "data": {
      "text/plain": [
       "(array([0, 0, 1, 1, 2, 2, 2]), array([0, 1, 0, 1, 0, 1, 2]))"
      ]
     },
     "execution_count": 93,
     "metadata": {},
     "output_type": "execute_result"
    }
   ],
   "source": [
    "np.nonzero(n)"
   ]
  },
  {
   "cell_type": "code",
   "execution_count": 94,
   "id": "c4614230-f991-4111-87cc-5339e81fa9a9",
   "metadata": {},
   "outputs": [],
   "source": [
    "import sys"
   ]
  },
  {
   "cell_type": "code",
   "execution_count": 95,
   "id": "52e89f3a-f049-4ce2-96e9-7a91b7f1bff6",
   "metadata": {},
   "outputs": [],
   "source": [
    "py_ar = [18,45,7,93]"
   ]
  },
  {
   "cell_type": "code",
   "execution_count": 96,
   "id": "a0a5d342-6904-4334-beb8-749e4243e1a2",
   "metadata": {},
   "outputs": [],
   "source": [
    "np_ar = np.array(py_ar)"
   ]
  },
  {
   "cell_type": "code",
   "execution_count": 97,
   "id": "0def88bb-a9d8-44e6-8922-a9c4e1d30a82",
   "metadata": {},
   "outputs": [
    {
     "data": {
      "text/plain": [
       "[18, 45, 7, 93]"
      ]
     },
     "execution_count": 97,
     "metadata": {},
     "output_type": "execute_result"
    }
   ],
   "source": [
    "py_ar"
   ]
  },
  {
   "cell_type": "code",
   "execution_count": 98,
   "id": "68e0cfdb-9629-4295-9b72-6100a7217e4e",
   "metadata": {},
   "outputs": [
    {
     "data": {
      "text/plain": [
       "array([18, 45,  7, 93])"
      ]
     },
     "execution_count": 98,
     "metadata": {},
     "output_type": "execute_result"
    }
   ],
   "source": [
    "np_ar"
   ]
  },
  {
   "cell_type": "code",
   "execution_count": 99,
   "id": "64ea94cc-1f8b-4964-961d-728ef48a60b6",
   "metadata": {},
   "outputs": [
    {
     "data": {
      "text/plain": [
       "112"
      ]
     },
     "execution_count": 99,
     "metadata": {},
     "output_type": "execute_result"
    }
   ],
   "source": [
    "sys.getsizeof(1)*len(py_ar)"
   ]
  },
  {
   "cell_type": "code",
   "execution_count": 100,
   "id": "28132313-eaab-44de-9be5-c15570327a5f",
   "metadata": {},
   "outputs": [
    {
     "data": {
      "text/plain": [
       "32"
      ]
     },
     "execution_count": 100,
     "metadata": {},
     "output_type": "execute_result"
    }
   ],
   "source": [
    "np_ar.itemsize*np_ar.size"
   ]
  },
  {
   "cell_type": "markdown",
   "id": "813ad492-f6ed-47bf-b26e-0b93cbfdea90",
   "metadata": {},
   "source": [
    "**Dot product of two arrays**"
   ]
  },
  {
   "cell_type": "code",
   "execution_count": 101,
   "id": "c09cba38-f208-4771-b8c6-f98f78979ff9",
   "metadata": {},
   "outputs": [],
   "source": [
    "u = np.array([1,2,3])"
   ]
  },
  {
   "cell_type": "code",
   "execution_count": 102,
   "id": "beadb506-1097-4f93-ae73-d5535cf78b03",
   "metadata": {},
   "outputs": [],
   "source": [
    "v = np.array([4,5,6])"
   ]
  },
  {
   "cell_type": "code",
   "execution_count": 103,
   "id": "3e38bcfa-a89f-4e48-ac4b-68034de70ab8",
   "metadata": {},
   "outputs": [
    {
     "data": {
      "text/plain": [
       "array([1, 2, 3])"
      ]
     },
     "execution_count": 103,
     "metadata": {},
     "output_type": "execute_result"
    }
   ],
   "source": [
    "u"
   ]
  },
  {
   "cell_type": "code",
   "execution_count": 104,
   "id": "e91daea7-9be0-4d8c-9b15-4d4ca316e4f9",
   "metadata": {},
   "outputs": [
    {
     "data": {
      "text/plain": [
       "array([4, 5, 6])"
      ]
     },
     "execution_count": 104,
     "metadata": {},
     "output_type": "execute_result"
    }
   ],
   "source": [
    "v"
   ]
  },
  {
   "cell_type": "code",
   "execution_count": 105,
   "id": "e3ef3a31-8e06-45ce-9281-11f2b2d66f0a",
   "metadata": {},
   "outputs": [
    {
     "data": {
      "text/plain": [
       "np.int64(32)"
      ]
     },
     "execution_count": 105,
     "metadata": {},
     "output_type": "execute_result"
    }
   ],
   "source": [
    "np.dot(u,v)"
   ]
  },
  {
   "cell_type": "code",
   "execution_count": 106,
   "id": "f6eb1f29-40cc-4af9-885f-67e329c04226",
   "metadata": {},
   "outputs": [
    {
     "data": {
      "text/plain": [
       "[1, 2, 3]"
      ]
     },
     "execution_count": 106,
     "metadata": {},
     "output_type": "execute_result"
    }
   ],
   "source": [
    "u.tolist()"
   ]
  },
  {
   "cell_type": "code",
   "execution_count": 107,
   "id": "95ae7082-4f65-4baf-b5a7-b9a82bcbe2bd",
   "metadata": {},
   "outputs": [],
   "source": [
    "x = np.array([[1,2,3],\n",
    "              [4,5,6],\n",
    "              [7,8,9]])"
   ]
  },
  {
   "cell_type": "code",
   "execution_count": 108,
   "id": "d43f76e2-d578-453e-9929-84f5b7ce9173",
   "metadata": {},
   "outputs": [],
   "source": [
    "y = np.array([[1,7,10],\n",
    "              [12,42,96],\n",
    "              [18,45,93]])"
   ]
  },
  {
   "cell_type": "code",
   "execution_count": 109,
   "id": "0ce3e1e4-dc89-42e7-9c9f-4232268e086b",
   "metadata": {},
   "outputs": [
    {
     "data": {
      "text/plain": [
       "array([[  79,  226,  481],\n",
       "       [ 172,  508, 1078],\n",
       "       [ 265,  790, 1675]])"
      ]
     },
     "execution_count": 109,
     "metadata": {},
     "output_type": "execute_result"
    }
   ],
   "source": [
    "np.dot(x,y)"
   ]
  },
  {
   "cell_type": "code",
   "execution_count": null,
   "id": "3e031366-4167-4b79-b3c8-d88c48f9be3a",
   "metadata": {},
   "outputs": [],
   "source": []
  }
 ],
 "metadata": {
  "kernelspec": {
   "display_name": "Python 3 (ipykernel)",
   "language": "python",
   "name": "python3"
  },
  "language_info": {
   "codemirror_mode": {
    "name": "ipython",
    "version": 3
   },
   "file_extension": ".py",
   "mimetype": "text/x-python",
   "name": "python",
   "nbconvert_exporter": "python",
   "pygments_lexer": "ipython3",
   "version": "3.12.1"
  }
 },
 "nbformat": 4,
 "nbformat_minor": 5
}
